{
 "cells": [
  {
   "cell_type": "code",
   "execution_count": 41,
   "id": "3f321dad-0bc8-41b9-8690-a57d88bd3844",
   "metadata": {},
   "outputs": [
    {
     "name": "stdout",
     "output_type": "stream",
     "text": [
      "5.0\n"
     ]
    }
   ],
   "source": [
    "#1)Convert x=5 into a floating-point number.\n",
    "\n",
    "x=5\n",
    "print(float(x))"
   ]
  },
  {
   "cell_type": "code",
   "execution_count": 43,
   "id": "af1eb589-1bac-42ef-890f-b8494eb509db",
   "metadata": {},
   "outputs": [
    {
     "name": "stdout",
     "output_type": "stream",
     "text": [
      "llo\n"
     ]
    }
   ],
   "source": [
    "#2)Get the result characters from index 2 to index 4.\n",
    "\n",
    "txt = \"Hello World\"\n",
    "print(txt[2:5])"
   ]
  },
  {
   "cell_type": "code",
   "execution_count": 47,
   "id": "cb57acc8-e8cf-4a05-adb4-579255915376",
   "metadata": {},
   "outputs": [
    {
     "name": "stdout",
     "output_type": "stream",
     "text": [
      "Hello World\n"
     ]
    }
   ],
   "source": [
    "#3)Return the string without any whitespace at the beginning or the end.\n",
    "\n",
    "txt = \"  Hello World  \"\n",
    "print(txt.strip())"
   ]
  },
  {
   "cell_type": "code",
   "execution_count": 46,
   "id": "abc33375-22dc-427e-97ab-b7aa73b99ec8",
   "metadata": {},
   "outputs": [
    {
     "name": "stdout",
     "output_type": "stream",
     "text": [
      "Jello World\n"
     ]
    }
   ],
   "source": [
    "#4) Replace the character H with a J.\n",
    "\n",
    "txt = \"Hello World\"\n",
    "print(txt.replace(\"H\",\"J\"))"
   ]
  },
  {
   "cell_type": "code",
   "execution_count": 48,
   "id": "60d1f1c9-c90c-43c3-93ab-6e8d53a8a3d1",
   "metadata": {},
   "outputs": [
    {
     "name": "stdout",
     "output_type": "stream",
     "text": [
      "My name is John, and I am 26.\n"
     ]
    }
   ],
   "source": [
    "#5) Insert the correct syntax to add a placeholder for the age parameter.\n",
    "#Please print out: My name is John, and I am 26.\n",
    "\n",
    "age = 26\n",
    "print(\"My name is John, and I am %d.\"%(age))"
   ]
  },
  {
   "cell_type": "code",
   "execution_count": 49,
   "id": "0e9b6601-3633-41a0-b6b2-584ede216568",
   "metadata": {},
   "outputs": [
    {
     "data": {
      "text/plain": [
       "['apple', 'lemon', 'banana', 'cherry']"
      ]
     },
     "execution_count": 49,
     "metadata": {},
     "output_type": "execute_result"
    }
   ],
   "source": [
    "#6) Use the insert method to add \"lemon\" as the second item in the fruits.\n",
    "\n",
    "fruits = [\"apple\", \"banana\", \"cherry\"]\n",
    "fruits.insert(1,\"lemon\")\n",
    "fruits"
   ]
  },
  {
   "cell_type": "code",
   "execution_count": 61,
   "id": "67c42c0f-1f53-49c7-b5a7-9dcc79346b00",
   "metadata": {},
   "outputs": [
    {
     "data": {
      "text/plain": [
       "('cherry', 'orange', 'kiwi')"
      ]
     },
     "execution_count": 61,
     "metadata": {},
     "output_type": "execute_result"
    }
   ],
   "source": [
    "#7) Slicing this tuple to print: ('cherry', 'orange', 'kiwi').\n",
    "\n",
    "fruits = (\"apple\", \"banana\", \"cherry\", \"orange\", \"kiwi\", \"melon\", \"mango\")\n",
    "fruits[2:5]"
   ]
  },
  {
   "cell_type": "code",
   "execution_count": 50,
   "id": "f3bc76a7-5bc2-45af-8677-71d34f3c2ea0",
   "metadata": {},
   "outputs": [
    {
     "name": "stdout",
     "output_type": "stream",
     "text": [
      "{'kiwi', 'apple', 'cherry', 'banana', 'orange'}\n",
      "{'apple', 'cherry', 'banana', 'mango', 'grapes', 'orange', 'kiwi'}\n",
      "{'apple', 'cherry', 'mango', 'grapes', 'orange', 'kiwi'}\n"
     ]
    }
   ],
   "source": [
    "#8)add \"kiwi\" to the fruits\n",
    "fruits = {\"apple\", \"banana\", \"cherry\", \"orange\"}\n",
    "fruits.add(\"kiwi\")\n",
    "print(fruits)\n",
    "\n",
    "#Use the correct method to add multiple items (more_fruits) to the fruits set.\n",
    "more_fruits = [\"orange\", \"mango\", \"grapes\"]\n",
    "fruitsset=fruits.union(more_fruits)\n",
    "print(fruitsset)\n",
    "\n",
    "#remove \"banana\" from the fruits set.\n",
    "fruitsset.remove(\"banana\")\n",
    "print(fruitsset)\n"
   ]
  },
  {
   "cell_type": "code",
   "execution_count": 51,
   "id": "3ab4110d-a870-4b36-9979-655d885f6887",
   "metadata": {},
   "outputs": [
    {
     "name": "stdout",
     "output_type": "stream",
     "text": [
      "Explore\n",
      "{'brand': 'Ford', 'model': 'Explore', 'year': 2020}\n",
      "{'brand': 'Ford', 'year': 2020}\n"
     ]
    }
   ],
   "source": [
    "#9) car = {\"brand\": \"Ford\", \"model\": \"Explore\", \"year\": 2006}\n",
    "#Use the get method to print the value of the \"model\" key of the car dictionary.\n",
    "car = {\"brand\": \"Ford\", \"model\": \"Explore\", \"year\": 2006}\n",
    "x=car.get(\"model\")\n",
    "print(x)\n",
    "\n",
    "#Change \"year\" from 2006 to 2020\n",
    "car[\"year\"] = 2020\n",
    "print(car)\n",
    "\n",
    "#Use the pop method to remove \"model\" from the car dictionary.\n",
    "car.pop(\"model\")\n",
    "print(car)"
   ]
  },
  {
   "cell_type": "code",
   "execution_count": 94,
   "id": "4785f450-35ef-45f4-94a2-9a1a93d7ca28",
   "metadata": {},
   "outputs": [
    {
     "name": "stdout",
     "output_type": "stream",
     "text": [
      "The price is 39.00 dollars\n"
     ]
    }
   ],
   "source": [
    "#10) Use the format method to print: The price is 39.00 dollars\n",
    "price = 39\n",
    "print(\"The price is {:.2f} dollars\".format(price))"
   ]
  },
  {
   "cell_type": "code",
   "execution_count": 52,
   "id": "2a540c24-4fbb-4e83-85f5-c9a8c91ffa92",
   "metadata": {},
   "outputs": [
    {
     "name": "stdout",
     "output_type": "stream",
     "text": [
      "I want 3 pieces of item number 127 for 39.00 dollars.\n"
     ]
    }
   ],
   "source": [
    "#11) Print out: I want 3 pieces of item number 127 for 39.00 dollars.\n",
    "\n",
    "quantity = 3\n",
    "itemno = 127\n",
    "price = 39\n",
    "print(\"I want {} pieces of item number {} for {:.2f} dollars.\".format(quantity,itemno,price))"
   ]
  },
  {
   "cell_type": "code",
   "execution_count": 98,
   "id": "42f3d5a1-ba5b-471b-8b92-153aa3eff4d5",
   "metadata": {},
   "outputs": [
    {
     "data": {
      "text/plain": [
       "[1, 2, 3, 5, 6, 7, 8, 9]"
      ]
     },
     "execution_count": 98,
     "metadata": {},
     "output_type": "execute_result"
    }
   ],
   "source": [
    "#12) Remove duplicate elements from a List: mylist=[1,3,1,6,9,3,7,8,9,2,8,5]\n",
    "mylist=[1,3,1,6,9,3,7,8,9,2,8,5]\n",
    "list(set(mylist))"
   ]
  },
  {
   "cell_type": "code",
   "execution_count": 105,
   "id": "0189933e-ffcc-4377-8ce9-32594fd78485",
   "metadata": {
    "tags": []
   },
   "outputs": [
    {
     "name": "stdout",
     "output_type": "stream",
     "text": [
      "Union of M and N is {0, 1, 2, 3, 4, 5, 6, 7, 8, 9, 10}\n",
      "Intersection of M and N is {8, 2, 4}\n",
      "Difference of M and N is {0, 10, 6}\n",
      "Symmetric difference of M and N is {0, 1, 3, 5, 6, 7, 9, 10}\n"
     ]
    }
   ],
   "source": [
    "#13) Perform different set operations:\n",
    "\n",
    "M = {0, 2, 4, 6, 8, 10}\n",
    "N = {1, 2, 3, 4, 5, 7, 8, 9}\n",
    "print(\"Union of M and N is\", M.union(N))\n",
    "print(\"Intersection of M and N is\", M.intersection(N))\n",
    "print(\"Difference of M and N is\", M.difference(N))\n",
    "print(\"Symmetric difference of M and N is\",M.symmetric_difference(N))"
   ]
  },
  {
   "cell_type": "code",
   "execution_count": 53,
   "id": "16e918cd-90ff-446b-9c90-cd496bcfa9ee",
   "metadata": {},
   "outputs": [
    {
     "name": "stdout",
     "output_type": "stream",
     "text": [
      "a time\n",
      "b money\n",
      "c health\n"
     ]
    }
   ],
   "source": [
    "#1) Iterate over a dictionary using for loop and print out.       1 point\n",
    "\n",
    "dt = {'a': 'time', 'b': 'money', 'c': 'health'}\n",
    "for x,y in dt.items():\n",
    "    print(x,y)"
   ]
  },
  {
   "cell_type": "code",
   "execution_count": 116,
   "id": "2d3797cf-9617-47af-a76a-6f55b1ab221b",
   "metadata": {},
   "outputs": [
    {
     "name": "stdout",
     "output_type": "stream",
     "text": [
      "0 21\n",
      "1 31\n",
      "2 41\n",
      "3 51\n",
      "4 61\n",
      "5 71\n",
      "6 81\n"
     ]
    }
   ],
   "source": [
    "#2) Access index of a list using for loop and print out the list with its index.              3 points\n",
    "#Result:\n",
    "# 0 21\n",
    "# 1 31\n",
    "# 2 41\n",
    "# 3 51\n",
    "# 4 61\n",
    "# 5 71\n",
    "# 6 81\n",
    "\n",
    "mylist = [21, 31, 41, 51, 61, 71, 81]\n",
    "for x in mylist:\n",
    "    print(mylist.index(x),x)"
   ]
  },
  {
   "cell_type": "code",
   "execution_count": 3,
   "id": "0be0b357-8bc8-40d3-a744-fe4e019ad311",
   "metadata": {},
   "outputs": [
    {
     "name": "stdout",
     "output_type": "stream",
     "text": [
      "[8, 3, 2, 1, 3, 4, 5]\n",
      "[8, 3, 2, 1, 3, 4, 5]\n"
     ]
    },
    {
     "data": {
      "text/plain": [
       "[8, 3, 2, 1, 3, 4, 5]"
      ]
     },
     "execution_count": 3,
     "metadata": {},
     "output_type": "execute_result"
    }
   ],
   "source": [
    "#3) A list: mylist = [[8], [3, 2], [1, 3, 4, 5]]. \n",
    "#Use three approaches to make this list flattened as: [8, 3, 2, 1, 3, 4, 5]: \n",
    "# a) list comprehension; b) nested for loops; c) lambda.    12 points\n",
    "\n",
    "mylist = [[8], [3, 2], [1, 3, 4, 5]]\n",
    "#a)\n",
    "newlist=[y for x in mylist for y in x ]\n",
    "print(newlist)\n",
    "\n",
    "#b)\n",
    "newlist=[]\n",
    "for x in mylist:\n",
    "    for y in x:\n",
    "        newlist.append(y)\n",
    "print(newlist)\n",
    "\n",
    "#c)\n",
    "mylist = [[8], [3, 2], [1, 3, 4, 5]]\n",
    "list(map(lambda y:y,[y for x in mylist for y in x]))"
   ]
  },
  {
   "cell_type": "code",
   "execution_count": 74,
   "id": "21b219ce-7656-43bf-9ce0-77f036cea5ba",
   "metadata": {},
   "outputs": [
    {
     "name": "stdout",
     "output_type": "stream",
     "text": [
      "[[1, 6], [2, 7], [3, 8], [4, 9], [5, 10]]\n"
     ]
    }
   ],
   "source": [
    "#4) A list: mylist = [1,2,3,4,5,6,7,8,9,10]. \n",
    "#Use list comprehension to split this list into evenly sized chunks.             5 points\n",
    "mylist = [1,2,3,4,5,6,7,8,9,10]\n",
    "\n",
    "newlist=[list(x) for x in zip(mylist[:5], mylist[5:])]\n",
    "print(newlist)"
   ]
  },
  {
   "cell_type": "code",
   "execution_count": 348,
   "id": "1ef3d825-665c-4b9e-bffb-39ac908372b0",
   "metadata": {},
   "outputs": [
    {
     "name": "stdout",
     "output_type": "stream",
     "text": [
      "a 6\n",
      "e 8\n",
      "i 1\n",
      "o 7\n",
      "u 4\n"
     ]
    }
   ],
   "source": [
    "#5) Given strings as below, count the number of each vowels:           8 points\n",
    "\n",
    "vowels = 'aeiou'\n",
    "new_str = 'Hello, how many hours have you spent on your courseware and practice every day?'\n",
    "for x in vowels:\n",
    "    if x in new_str:\n",
    "        print(x,new_str.count(x))"
   ]
  },
  {
   "cell_type": "code",
   "execution_count": 34,
   "id": "66e31ba9-5113-4dd1-9d53-06cf183ee773",
   "metadata": {},
   "outputs": [
    {
     "name": "stdout",
     "output_type": "stream",
     "text": [
      "Hello how are you Hope doing well \n"
     ]
    }
   ],
   "source": [
    "#6) Remove all punctuations from a string: \"Hello!!!, how are you? -Hope doing well ~).\"\n",
    "#And print out the string without any punctuation.            5 points\n",
    "\n",
    "String = \"Hello!!!, how are you? -Hope doing well ~).\"\n",
    "remove = \"!,?-~).\"\n",
    "newstring = \"\"\n",
    "for char in String:\n",
    "    if char not in remove:\n",
    "        newstring = newstring + char\n",
    "print(newstring)"
   ]
  },
  {
   "cell_type": "code",
   "execution_count": 83,
   "id": "f74fb69b-bd18-47f8-b910-4990af27d014",
   "metadata": {},
   "outputs": [
    {
     "data": {
      "text/plain": [
       "['England',\n",
       " 'New',\n",
       " 'Virus',\n",
       " 'despite',\n",
       " 'high',\n",
       " 'hits',\n",
       " 'rates',\n",
       " 'surge',\n",
       " 'vaccination']"
      ]
     },
     "execution_count": 83,
     "metadata": {},
     "output_type": "execute_result"
    }
   ],
   "source": [
    "#7) Sort alphabetically the words form a string: \n",
    "#“Virus surge hits New England despite high vaccination rates”. \n",
    "#And print out the sorted words one by one.  5 points\n",
    "\n",
    "string = \"Virus surge hits New England despite high vaccination rates\"\n",
    "newstring = string.split(\" \")\n",
    "sorted(newstring)"
   ]
  },
  {
   "cell_type": "code",
   "execution_count": 322,
   "id": "7031b02c-038d-4779-8603-32cc91d7fd6c",
   "metadata": {},
   "outputs": [
    {
     "name": "stdout",
     "output_type": "stream",
     "text": [
      "36.5 Celsius degree is equal to 97.7 Fahrenheit degree.\n"
     ]
    }
   ],
   "source": [
    "#8) Convert Celsius to Fahrenheit and display it.         4 points\n",
    "\n",
    "#The formula is: Celsius * 1.8 = Fahrenheit - 32\n",
    "#The output (format) should be:\n",
    "#36.5 Celsius degree is equal to 97.7 Fahrenheit degree.\n",
    "\n",
    "def fah(c):\n",
    "    f=c*1.8+32\n",
    "    return f\n",
    "print(\"{} Celsius degree is equal to {} Fahrenheit degree.\".format(36.5,fah(36.5)))\n"
   ]
  },
  {
   "cell_type": "code",
   "execution_count": 139,
   "id": "249b80d6-69ac-467e-b0e9-653ec6dec7d0",
   "metadata": {},
   "outputs": [
    {
     "data": {
      "text/plain": [
       "14.696938456699069"
      ]
     },
     "execution_count": 139,
     "metadata": {},
     "output_type": "execute_result"
    }
   ],
   "source": [
    "#9) If a, b and c are three sides of a triangle. Then, the area of a triangle can be calculated as:     4 points\n",
    "\n",
    "#s=(a+b+c)/2\n",
    "#area = √(s(s-a)*(s-b)*(s-c))\n",
    "#Now, we have a=5, b=6,c=7. Please write a program to calculate the area of this triangle.\n",
    "\n",
    "import math\n",
    "def area(a,b,c):\n",
    "    s=(a+b+c)/2\n",
    "    result=math.sqrt((s*(s-a)*(s-b)*(s-c)))\n",
    "    return result\n",
    "area(5,6,7)"
   ]
  },
  {
   "cell_type": "code",
   "execution_count": 101,
   "id": "8b34bc54-282d-4971-b094-ddf55d259ebe",
   "metadata": {},
   "outputs": [
    {
     "name": "stdout",
     "output_type": "stream",
     "text": [
      "[18, 10, 5]\n",
      "[7, 12, 9]\n",
      "[14, 7, 2]\n"
     ]
    }
   ],
   "source": [
    "#10) Use 2 nested loops to add two 3x3 arrays and print out the results in a matrix style (3 rows and 3 columns)         5 points\n",
    "\n",
    "X = [[9,2,3],\n",
    "     [4,5,6],\n",
    "     [8,2,1]]\n",
    "Y = [[9,8,2],\n",
    "     [3,7,3],\n",
    "     [6,5,1]]\n",
    "Matrix=[[0,0,0],\n",
    "        [0,0,0],\n",
    "        [0,0,0]]\n",
    "for x in range(len(X)):\n",
    "    for y in range(len(X[0])):\n",
    "        Matrix[x][y]=X[x][y]+Y[x][y]\n",
    "for i in Matrix:\n",
    "    print(i)"
   ]
  },
  {
   "cell_type": "code",
   "execution_count": 116,
   "id": "104805b3-70db-4e46-822a-c486fa9d67e3",
   "metadata": {},
   "outputs": [
    {
     "name": "stdout",
     "output_type": "stream",
     "text": [
      "[18, 10, 5]\n",
      "[7, 12, 9]\n",
      "[14, 7, 2]\n"
     ]
    }
   ],
   "source": [
    "#11) Use a list comprehension to repeat the above question.            5 points\n",
    "X = [[9,2,3],\n",
    "     [4,5,6],\n",
    "     [8,2,1]]\n",
    "Y = [[9,8,2],\n",
    "     [3,7,3],\n",
    "     [6,5,1]]\n",
    "Matrix = [[X[x][y]+Y[x][y] for y in range(len(X[0]))] for x in range(len(X))]\n",
    "for i in Matrix:\n",
    "    print(i)"
   ]
  },
  {
   "cell_type": "code",
   "execution_count": 84,
   "id": "7f70fbf2-a36f-4f28-8863-805040648b81",
   "metadata": {},
   "outputs": [
    {
     "name": "stdout",
     "output_type": "stream",
     "text": [
      "8 x 1 = 8\n",
      "8 x 2 = 16\n",
      "8 x 3 = 24\n",
      "8 x 4 = 32\n",
      "8 x 5 = 40\n",
      "8 x 6 = 48\n",
      "8 x 7 = 56\n",
      "8 x 8 = 64\n",
      "8 x 9 = 72\n",
      "8 x 10 = 80\n"
     ]
    }
   ],
   "source": [
    "#12) Print a multiplication table of 8:               5 points\n",
    "\n",
    "#8 x 1 = 8,\n",
    "#……..  \n",
    "#8 x 10 = 80\n",
    "\n",
    "for y in range(1,11):\n",
    "    print(\"%s x %s = %s\"%(8,y,8*y))"
   ]
  },
  {
   "cell_type": "code",
   "execution_count": 166,
   "id": "969177c9-7f82-436d-bc82-4ac1313ea268",
   "metadata": {},
   "outputs": [
    {
     "data": {
      "text/plain": [
       "720"
      ]
     },
     "execution_count": 166,
     "metadata": {},
     "output_type": "execute_result"
    }
   ],
   "source": [
    "#13) Write a program to print out the factorial of 6.               5 points\n",
    "def fun(x):\n",
    "    if x==1:\n",
    "        return 1\n",
    "    return x*fun(x-1)\n",
    "fun(6)"
   ]
  },
  {
   "cell_type": "code",
   "execution_count": 85,
   "id": "cebd6a7f-6a4d-4af3-b8bc-1e8fc3b2c919",
   "metadata": {},
   "outputs": [
    {
     "data": {
      "text/plain": [
       "210"
      ]
     },
     "execution_count": 85,
     "metadata": {},
     "output_type": "execute_result"
    }
   ],
   "source": [
    "#14) Use while-loop to calculate the sum of natural numbers up to number=20.      5 points\n",
    "def sum(x):\n",
    "    sum=0\n",
    "    while 0<x<=20:\n",
    "        sum=x+sum\n",
    "        x=x-1\n",
    "    return sum\n",
    "sum(20)\n"
   ]
  },
  {
   "cell_type": "code",
   "execution_count": 91,
   "id": "20764957-d6b8-4ace-be61-b2d270014a44",
   "metadata": {},
   "outputs": [
    {
     "data": {
      "text/plain": [
       "8"
      ]
     },
     "execution_count": 91,
     "metadata": {},
     "output_type": "execute_result"
    }
   ],
   "source": [
    "#15) Define a function to calculate the GCD (greatest common divisor) of two numbers and print out the result \n",
    "#when these two numbers are 64 and 24.        5 points\n",
    "def GCD(x,y):\n",
    "    if y==0:\n",
    "        return x\n",
    "    else:\n",
    "        return GCD(y,x%y)\n",
    "GCD(64,24)"
   ]
  },
  {
   "cell_type": "code",
   "execution_count": 1,
   "id": "2e0ff9c6-37e1-41e2-a4d3-7e48a68ca462",
   "metadata": {},
   "outputs": [
    {
     "data": {
      "text/plain": [
       "192"
      ]
     },
     "execution_count": 1,
     "metadata": {},
     "output_type": "execute_result"
    }
   ],
   "source": [
    "#16) Define a function to calculate the LCM (least common multiple) of two numbers and print out the result when \n",
    "#these two numbers are 64 and 24.       8 points\n",
    "def LCM(x,y):\n",
    "    def GCD(x,y):\n",
    "        if y==0:\n",
    "            return x\n",
    "        else:\n",
    "            return GCD(y,x%y)\n",
    "    s=(x*y)/GCD(x,y)\n",
    "    return int(s)\n",
    "LCM(64,24)"
   ]
  },
  {
   "cell_type": "code",
   "execution_count": 21,
   "id": "cb7c1f0b-c981-47e8-8a24-0fea0b9b3d03",
   "metadata": {},
   "outputs": [
    {
     "name": "stdout",
     "output_type": "stream",
     "text": [
      "907\n",
      "911\n",
      "919\n",
      "929\n",
      "937\n",
      "941\n",
      "947\n",
      "953\n",
      "967\n",
      "971\n",
      "977\n",
      "983\n",
      "991\n",
      "997\n"
     ]
    }
   ],
   "source": [
    "#17) Print all prime numbers between 900 and 1000.            5 points\n",
    "\n",
    "for n in range(900,1001):\n",
    "    for i in range(2,n):\n",
    "            if (n%i) == 0:\n",
    "                break\n",
    "    else:\n",
    "        print(n)"
   ]
  },
  {
   "cell_type": "code",
   "execution_count": null,
   "id": "3b4997ce-12e8-4dd0-9db3-476b878f3131",
   "metadata": {},
   "outputs": [],
   "source": []
  }
 ],
 "metadata": {
  "kernelspec": {
   "display_name": "Python 3",
   "language": "python",
   "name": "python3"
  },
  "language_info": {
   "codemirror_mode": {
    "name": "ipython",
    "version": 3
   },
   "file_extension": ".py",
   "mimetype": "text/x-python",
   "name": "python",
   "nbconvert_exporter": "python",
   "pygments_lexer": "ipython3",
   "version": "3.8.8"
  }
 },
 "nbformat": 4,
 "nbformat_minor": 5
}
