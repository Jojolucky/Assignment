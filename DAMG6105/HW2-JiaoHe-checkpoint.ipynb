{
 "cells": [
  {
   "cell_type": "code",
   "execution_count": 1,
   "id": "430083c2-cb63-4f91-ab42-2ac7405e4198",
   "metadata": {},
   "outputs": [
    {
     "name": "stdout",
     "output_type": "stream",
     "text": [
      "[[1 2 3]\n",
      " [4 5 6]]\n"
     ]
    }
   ],
   "source": [
    "#1). Convert a Python list x=[[1,2,3],[4,5,6]] into a Numpy array.    1 point\n",
    "import numpy as np\n",
    "x=[[1,2,3],[4,5,6]]\n",
    "x1=np.asarray(x)\n",
    "print(x1)"
   ]
  },
  {
   "cell_type": "code",
   "execution_count": 2,
   "id": "1a7a5181-29d8-40b4-9f55-8ba86ab73d8f",
   "metadata": {},
   "outputs": [
    {
     "name": "stdout",
     "output_type": "stream",
     "text": [
      "[[1 2]\n",
      " [3 4]\n",
      " [5 6]]\n"
     ]
    }
   ],
   "source": [
    "#2). Use one line to create a 3x2 2D array with shape of (3,2), filled with 1-6.     1 point\n",
    "\n",
    "x=np.arange(1,7).reshape(3,2)\n",
    "print(x)"
   ]
  },
  {
   "cell_type": "code",
   "execution_count": 3,
   "id": "75a69b28-1868-4435-b8af-7e6b2d4c7a5e",
   "metadata": {},
   "outputs": [
    {
     "name": "stdout",
     "output_type": "stream",
     "text": [
      "[  2   4   6   8  10  12  14  16  18  20  22  24  26  28  30  32  34  36\n",
      "  38  40  42  44  46  48  50  52  54  56  58  60  62  64  66  68  70  72\n",
      "  74  76  78  80  82  84  86  88  90  92  94  96  98 100] \n",
      "\n",
      "51.0\n"
     ]
    }
   ],
   "source": [
    "#3). Create an array of 2, 4, 6, 8, ..., 98, 100; and find the mean value.    1 point\n",
    "x=np.arange(2,101,2)\n",
    "print(x,'\\n')\n",
    "x_mean=np.mean(x)\n",
    "print(x_mean)"
   ]
  },
  {
   "cell_type": "code",
   "execution_count": 4,
   "id": "bbc6009a-fbc5-4224-9507-5a6d017457e2",
   "metadata": {},
   "outputs": [
    {
     "name": "stdout",
     "output_type": "stream",
     "text": [
      "[[[17  5  5]\n",
      "  [ 0 11 14]\n",
      "  [ 7 18 18]]\n",
      "\n",
      " [[14  5 18]\n",
      "  [10 13 12]\n",
      "  [ 9  3  3]]\n",
      "\n",
      " [[13  0 13]\n",
      "  [ 2  9  3]\n",
      "  [15 16  3]]] \n",
      "\n",
      "0 \n",
      "\n",
      "18\n"
     ]
    }
   ],
   "source": [
    "#4). Create an 3x3x3 array filled with arbitrary values; and find the minimum and maximum values.     1 point\n",
    "\n",
    "x=np.random.randint(20,size=(3,3,3))\n",
    "x_min=np.min(x)\n",
    "x_max=np.max(x)\n",
    "print(x,'\\n')\n",
    "print(x_min,'\\n')\n",
    "print(x_max)"
   ]
  },
  {
   "cell_type": "code",
   "execution_count": 5,
   "id": "9a5b7994-f98f-43f3-98a4-9bb3eebb6ac5",
   "metadata": {},
   "outputs": [
    {
     "name": "stdout",
     "output_type": "stream",
     "text": [
      "[ 3  8  6  9 15 10  3  4  7  9] \n",
      "\n",
      "[ 3  3  4  6  7  8  9  9 10 15]\n"
     ]
    }
   ],
   "source": [
    "#5). Create a random array of size 10 and sort it.                1 point\n",
    "\n",
    "x=np.random.randint(20,size=10)\n",
    "x_sort=np.sort(x)\n",
    "print(x,'\\n')\n",
    "print(x_sort)"
   ]
  },
  {
   "cell_type": "code",
   "execution_count": 6,
   "id": "ce3b3ced-0a01-4044-bfc9-4661d73779f8",
   "metadata": {},
   "outputs": [
    {
     "name": "stdout",
     "output_type": "stream",
     "text": [
      "[ 5  8 11 14 17 20 23 26 29 32]\n"
     ]
    }
   ],
   "source": [
    "#6). Create a numpy array of length 10, starting from 5 and has a step of 3 between consecutive numbers.     1 point\n",
    "x=np.arange(5,35,3)\n",
    "print(x)"
   ]
  },
  {
   "cell_type": "code",
   "execution_count": 7,
   "id": "b2485303-a3e2-46f6-8cd7-f42661148352",
   "metadata": {},
   "outputs": [
    {
     "name": "stdout",
     "output_type": "stream",
     "text": [
      "[[35 20 32 45 10 31 11 12 36 17]\n",
      " [ 9 47 27 31 29 12 21 26 26 22]\n",
      " [ 1 27 49 22 30 13 11 48 21 10]\n",
      " [ 1 36 13 12 19 32 15 45  7 12]\n",
      " [ 7 37 13 38 44 31  7 22 10 28]\n",
      " [46 29 34 43  8 43 32 41 24 45]\n",
      " [25 29 37  6 24  8 12 24  0 45]\n",
      " [48 17 37 47 47 34  8 17 17 31]\n",
      " [18 28 43 38 10 22 33 28 23  8]\n",
      " [28 18 32 11  2 25 49 22 39 18]] \n",
      "\n",
      "800\n"
     ]
    }
   ],
   "source": [
    "#7). Create an arbitrary array of shape (10,10); and find the memory size of this array.       1 points\n",
    "x=np.random.randint(50,size=(10,10))\n",
    "x_memory=x.nbytes\n",
    "print(x,'\\n')\n",
    "print(x_memory)"
   ]
  },
  {
   "cell_type": "code",
   "execution_count": 8,
   "id": "292d8d18-17f8-4376-b1f9-0ec860726765",
   "metadata": {},
   "outputs": [
    {
     "name": "stdout",
     "output_type": "stream",
     "text": [
      "[0. 0. 0. 0. 1. 0. 0. 0. 0. 0.]\n"
     ]
    }
   ],
   "source": [
    "#8). Create a null array of size 10 but the fifth value which is 1.         1 points\n",
    "x=np.zeros(10)\n",
    "x[4]=1\n",
    "print(x)\n"
   ]
  },
  {
   "cell_type": "code",
   "execution_count": 9,
   "id": "c3763468-cbfd-4d0c-b3e3-21bc412f3c01",
   "metadata": {},
   "outputs": [
    {
     "name": "stdout",
     "output_type": "stream",
     "text": [
      "[49 48 47 46 45 44 43 42 41 40 39 38 37 36 35 34 33 32 31 30 29 28 27 26\n",
      " 25 24 23 22 21 20 19 18 17 16 15 14 13 12 11 10]\n"
     ]
    }
   ],
   "source": [
    "#9). Create an array with values ranging from 10 to 49; and reverse it then (first element becomes last).       1 point\n",
    "x=np.arange(10,50)\n",
    "y=x[::-1]\n",
    "print(y)"
   ]
  },
  {
   "cell_type": "code",
   "execution_count": 10,
   "id": "b3813d1b-cfa7-458f-a111-9d935288f077",
   "metadata": {},
   "outputs": [
    {
     "data": {
      "text/plain": [
       "array([[0.5488135 , 0.71518937],\n",
       "       [0.60276338, 0.54488318],\n",
       "       [0.4236548 , 0.64589411]])"
      ]
     },
     "execution_count": 10,
     "metadata": {},
     "output_type": "execute_result"
    }
   ],
   "source": [
    "#10). Create an array of shape (3, 2) with random values from a uniform distribution over [0, 1) \n",
    "#      and confirm you can get the same value when you run it next time.                    1 point\n",
    "np.random.seed(0)\n",
    "x=np.random.random((3,2))\n",
    "x"
   ]
  },
  {
   "cell_type": "code",
   "execution_count": 11,
   "id": "8460b080-d283-480a-9208-766f4e46b4d4",
   "metadata": {},
   "outputs": [
    {
     "name": "stdout",
     "output_type": "stream",
     "text": [
      "[[0. 1. 2. 3. 4.]\n",
      " [0. 1. 2. 3. 4.]\n",
      " [0. 1. 2. 3. 4.]\n",
      " [0. 1. 2. 3. 4.]\n",
      " [0. 1. 2. 3. 4.]]\n"
     ]
    }
   ],
   "source": [
    "#11). Create a 5x5 matrix with row values ranging from 0 to 4:              2 points\n",
    "#[[0. 1. 2. 3. 4.]\n",
    "# [0. 1. 2. 3. 4.]\n",
    "# [0. 1. 2. 3. 4.]\n",
    "# [0. 1. 2. 3. 4.]\n",
    "# [0. 1. 2. 3. 4.]]\n",
    "\n",
    "x=np.arange(0,5,dtype = float) #another method using broadcasting:  np.zeros((5,5))+np.arange(5)\n",
    "y=np.vstack([x,x,x,x,x])\n",
    "print(y)\n"
   ]
  },
  {
   "cell_type": "code",
   "execution_count": 12,
   "id": "00e8f942-7e0b-4f01-96f0-2df26c449b6a",
   "metadata": {},
   "outputs": [
    {
     "name": "stdout",
     "output_type": "stream",
     "text": [
      "[[0. 0. 0. 0. 0. 0. 0.]\n",
      " [0. 1. 1. 1. 1. 1. 0.]\n",
      " [0. 1. 1. 1. 1. 1. 0.]\n",
      " [0. 1. 1. 1. 1. 1. 0.]\n",
      " [0. 1. 1. 1. 1. 1. 0.]\n",
      " [0. 1. 1. 1. 1. 1. 0.]\n",
      " [0. 0. 0. 0. 0. 0. 0.]]\n"
     ]
    }
   ],
   "source": [
    "#12). Add a border (filled with 0's) around an existing array:                   4 points\n",
    "#[[1. 1. 1. 1. 1.]\n",
    " #[1. 1. 1. 1. 1.]\n",
    " #[1. 1. 1. 1. 1.]\n",
    " #[1. 1. 1. 1. 1.]\n",
    " #[1. 1. 1. 1. 1.]]\n",
    " #  \n",
    "#[[0. 0. 0. 0. 0. 0. 0.]\n",
    " #[0. 1. 1. 1. 1. 1. 0.]\n",
    " #[0. 1. 1. 1. 1. 1. 0.]\n",
    " #[0. 1. 1. 1. 1. 1. 0.]\n",
    " #[0. 1. 1. 1. 1. 1. 0.]\n",
    " #[0. 1. 1. 1. 1. 1. 0.]\n",
    " #[0. 0. 0. 0. 0. 0. 0.]]\n",
    "\n",
    "x=np.ones(25).reshape(5,5)\n",
    "y=np.zeros(5).reshape(5,1)\n",
    "z=np.zeros(7)\n",
    "array=np.vstack([z,np.hstack([y,x,y]),z])\n",
    "print(array)"
   ]
  },
  {
   "cell_type": "code",
   "execution_count": 13,
   "id": "c4555d45-fb54-444c-8396-360db8715bd1",
   "metadata": {},
   "outputs": [
    {
     "name": "stdout",
     "output_type": "stream",
     "text": [
      "[[1 0 0 0 0]\n",
      " [0 2 0 0 0]\n",
      " [0 0 3 0 0]\n",
      " [0 0 0 4 0]\n",
      " [0 0 0 0 5]] \n",
      "\n",
      "[[0 0 0 0 0]\n",
      " [1 0 0 0 0]\n",
      " [0 2 0 0 0]\n",
      " [0 0 3 0 0]\n",
      " [0 0 0 4 0]]\n"
     ]
    }
   ],
   "source": [
    "#13). Create a 5x5 2D array with values 1,2,3,4,5 on the diagonal                 4 points\n",
    "#[[1 0 0 0 0]\n",
    " #[0 2 0 0 0]\n",
    " #[0 0 3 0 0]\n",
    " #[0 0 0 4 0]\n",
    " #[0 0 0 0 5]]\n",
    "#Then, make 1,2,3,4 move below the diagonal:\n",
    " #[[0 0 0 0 0]\n",
    " #[1 0 0 0 0]\n",
    " #[0 2 0 0 0]\n",
    " #[0 0 3 0 0]\n",
    " #[0 0 0 4 0]]\n",
    "    \n",
    "x=np.diag(np.arange(1,6))\n",
    "print(x,'\\n')\n",
    "x=np.diag(np.arange(1,5),k=-1)\n",
    "print(x)"
   ]
  },
  {
   "cell_type": "code",
   "execution_count": 14,
   "id": "c5a61c97-ef1c-43df-9508-8960b3da51dd",
   "metadata": {},
   "outputs": [
    {
     "name": "stdout",
     "output_type": "stream",
     "text": [
      "[[1. 1. 1. 1. 1. 1. 1. 1. 1. 1.]\n",
      " [1. 0. 0. 0. 0. 0. 0. 0. 0. 1.]\n",
      " [1. 0. 0. 0. 0. 0. 0. 0. 0. 1.]\n",
      " [1. 0. 0. 0. 0. 0. 0. 0. 0. 1.]\n",
      " [1. 0. 0. 0. 0. 0. 0. 0. 0. 1.]\n",
      " [1. 0. 0. 0. 0. 0. 0. 0. 0. 1.]\n",
      " [1. 0. 0. 0. 0. 0. 0. 0. 0. 1.]\n",
      " [1. 0. 0. 0. 0. 0. 0. 0. 0. 1.]\n",
      " [1. 0. 0. 0. 0. 0. 0. 0. 0. 1.]\n",
      " [1. 1. 1. 1. 1. 1. 1. 1. 1. 1.]]\n"
     ]
    }
   ],
   "source": [
    "#14). Create a 2d 10x10 array with 1 on the border and 0 inside.                  4 points\n",
    "#[[1. 1. 1. 1. 1. 1. 1. 1. 1. 1.]\n",
    " #[1. 0. 0. 0. 0. 0. 0. 0. 0. 1.]\n",
    " #[1. 0. 0. 0. 0. 0. 0. 0. 0. 1.]\n",
    " #[1. 0. 0. 0. 0. 0. 0. 0. 0. 1.]\n",
    " #[1. 0. 0. 0. 0. 0. 0. 0. 0. 1.]\n",
    " #[1. 0. 0. 0. 0. 0. 0. 0. 0. 1.]\n",
    " #[1. 0. 0. 0. 0. 0. 0. 0. 0. 1.]\n",
    " #[1. 0. 0. 0. 0. 0. 0. 0. 0. 1.]\n",
    " #[1. 0. 0. 0. 0. 0. 0. 0. 0. 1.]\n",
    " #[1. 1. 1. 1. 1. 1. 1. 1. 1. 1.]]\n",
    "    \n",
    "x=np.zeros(64).reshape(8,8)\n",
    "y=np.ones(8).reshape(8,1)\n",
    "z=np.ones(10).reshape(1,10)\n",
    "array=np.vstack([z,np.hstack([y,x,y]),z])\n",
    "print(array)"
   ]
  },
  {
   "cell_type": "code",
   "execution_count": 15,
   "id": "2c66a541-73ed-47db-a9f1-7c383acb8177",
   "metadata": {},
   "outputs": [
    {
     "name": "stdout",
     "output_type": "stream",
     "text": [
      "[4.37587211 8.91773001 9.63662761 3.83441519 7.91725038 5.2889492\n",
      " 5.68044561 9.25596638 0.71036058 0.871293  ]\n",
      "[4 8 9 3 7 5 5 9 0 0]\n",
      "[4 8 9 3 7 5 5 9 0 0]\n"
     ]
    }
   ],
   "source": [
    "#15). Extract the integer part of a random array of positive numbers using 2 different methods,\n",
    "#     and the result should be an integer array.                2 points\n",
    "x=np.random.uniform(0,10,10)\n",
    "print(x)\n",
    "print(x.astype(int))\n",
    "print(np.int_(x))"
   ]
  },
  {
   "cell_type": "code",
   "execution_count": 16,
   "id": "8cf791d0-e667-4b8f-b1e1-e297db2aed11",
   "metadata": {},
   "outputs": [],
   "source": [
    "#2. Operations on Numpy Arrays: total 38 points\n"
   ]
  },
  {
   "cell_type": "code",
   "execution_count": 17,
   "id": "62fe15a0-adf7-412d-9c29-439983605b75",
   "metadata": {},
   "outputs": [
    {
     "name": "stdout",
     "output_type": "stream",
     "text": [
      "8\n"
     ]
    }
   ],
   "source": [
    "#1). Find the index of 5th repetition of number 1 in the given array x.          2 points\n",
    "\n",
    "x=[1, 2, 1, 1, 3, 4, 3, 1, 1, 2, 1, 1, 2]\n",
    "x1=np.asarray(x)\n",
    "y=np.where(x1==1)\n",
    "print(y[0][4])\n"
   ]
  },
  {
   "cell_type": "code",
   "execution_count": 18,
   "id": "fe0b4385-0044-4a96-a910-f0081851ac3d",
   "metadata": {},
   "outputs": [
    {
     "name": "stdout",
     "output_type": "stream",
     "text": [
      "[1 2 3 4 5 6 7 8 9] \n",
      "\n",
      "[1 2 3 4] [5 6] [7 8 9]\n"
     ]
    }
   ],
   "source": [
    "#2). Use arange to get an array [1, 2, 3, ..., 9]. \n",
    "#Split x into 3 arrays, each of which has 4, 2, and 3 elements in the original order.                   2 points\n",
    "x=np.arange(1,10)\n",
    "print(x,'\\n')\n",
    "x1,x2,x3=np.split(x,[4,6])\n",
    "print(x1,x2,x3)"
   ]
  },
  {
   "cell_type": "code",
   "execution_count": 19,
   "id": "cdd72ec3-6b8b-46c4-af58-deec6eef8155",
   "metadata": {},
   "outputs": [
    {
     "name": "stdout",
     "output_type": "stream",
     "text": [
      "[[ 0  1  2  3]\n",
      " [ 4  5  6  7]\n",
      " [ 8  9 10 11]\n",
      " [12 13 14 15]] \n",
      "\n"
     ]
    },
    {
     "data": {
      "text/plain": [
       "[array([[ 0,  1],\n",
       "        [ 4,  5],\n",
       "        [ 8,  9],\n",
       "        [12, 13]]),\n",
       " array([[ 2,  3],\n",
       "        [ 6,  7],\n",
       "        [10, 11],\n",
       "        [14, 15]])]"
      ]
     },
     "execution_count": 19,
     "metadata": {},
     "output_type": "execute_result"
    }
   ],
   "source": [
    "#3). Use arange to generate the following 2D array:               2 points\n",
    "#[[ 0., 1., 2., 3.],\n",
    " #[ 4., 5., 6., 7.],\n",
    " #[ 8., 9., 10., 11.],\n",
    " #[ 12., 13., 14., 15.]]\n",
    "#Use np.split to split the array into left and right halves.\n",
    "#[[ 0,  1],\n",
    " #[ 4,  5],\n",
    " #[ 8,  9],\n",
    " #[12, 13]]\n",
    "#and\n",
    "#[[ 2,  3],\n",
    "# [ 6,  7],\n",
    " #[10, 11],\n",
    " #[14, 15]]\n",
    "\n",
    "x=np.arange(16).reshape(4,4)     # x=np.arange(16,dtype=float).reshape(4,4)   data type requirement.\n",
    "print(x,'\\n')\n",
    "y=np.hsplit(x,[2])\n",
    "y\n",
    "\n"
   ]
  },
  {
   "cell_type": "code",
   "execution_count": 20,
   "id": "b0bcbe10-e114-4566-80f5-e71a74103a0b",
   "metadata": {},
   "outputs": [
    {
     "name": "stdout",
     "output_type": "stream",
     "text": [
      "[[10 15]\n",
      " [25 30]] \n",
      "\n",
      "20\n"
     ]
    }
   ],
   "source": [
    "#4). Given an 2D array:                              2 points\n",
    "#[[5,10,15],\n",
    " #[20,25,30],\n",
    " #[35,40,45]]\n",
    "#(1) Slicing to get the sub-array [[10,15], [25,30]]\n",
    "\n",
    "#(2) Getting individual element value \"20\"\n",
    "x=np.array([[5,10,15],\n",
    "           [20,25,30],\n",
    "           [35,40,45]])\n",
    "sub_array= x[:2,1:3]\n",
    "print(sub_array,'\\n')\n",
    "x20=x[1,0]\n",
    "print(x20)\n",
    "\n"
   ]
  },
  {
   "cell_type": "code",
   "execution_count": 21,
   "id": "4e1a4892-e23f-40ef-9e58-16422cb44a9a",
   "metadata": {},
   "outputs": [
    {
     "name": "stdout",
     "output_type": "stream",
     "text": [
      "[[ 1  2  3  7  8  9]\n",
      " [ 4  5  6 10 11 12]]\n"
     ]
    }
   ],
   "source": [
    "#5). Let x be an array:                                                   2 points\n",
    "#[[ 1 2 3],\n",
    "# [ 4 5 6]]\n",
    " #   and y be an array\n",
    "#[[ 7 8 9],\n",
    " #[10 11 12]]\n",
    "  #  Concatenate x and y so that a new array looks like\n",
    "#[[1, 2, 3, 7, 8, 9],\n",
    " #[4, 5, 6, 10, 11, 12]]\n",
    "    \n",
    "    \n",
    "x=np.array([[1,2,3],\n",
    "            [4,5,6]])\n",
    "y=np.array([[7,8,9],\n",
    "            [10,11,12]])\n",
    "x_y=np.concatenate([x,y],axis=1)      # another method:  x_y=np.hstack([x,y])\n",
    "print(x_y)"
   ]
  },
  {
   "cell_type": "code",
   "execution_count": 22,
   "id": "dfb31162-6950-4d18-8240-225b1511d099",
   "metadata": {},
   "outputs": [
    {
     "name": "stdout",
     "output_type": "stream",
     "text": [
      "[[6 1 4]\n",
      " [4 8 4]\n",
      " [6 3 5]\n",
      " [8 7 9]\n",
      " [9 2 7]] \n",
      "\n",
      "[0.16666667 0.5        0.5        0.77777778 0.22222222]\n"
     ]
    }
   ],
   "source": [
    "#6). Compute the min/max (min is divided by max) on each row for a given 2d array, \n",
    "#    in which integer values range from 1 to 10 [1,10) and shape is (5,3).             2 points\n",
    "#    Here requires a random seed to keep the same value from the random generator.\n",
    "\n",
    "np.random.seed(0)\n",
    "x=np.random.randint(1,10,size=(5,3))\n",
    "print(x,'\\n')\n",
    "x1=x.min(axis=1)/x.max(axis=1)\n",
    "print(x1)"
   ]
  },
  {
   "cell_type": "code",
   "execution_count": 23,
   "id": "c6b0bc06-8820-476d-9f28-2bee445ac864",
   "metadata": {},
   "outputs": [
    {
     "name": "stdout",
     "output_type": "stream",
     "text": [
      "[[ 7 23 14 24 17]\n",
      " [ 5 25 13  8  9]\n",
      " [20 19 16 19  5]\n",
      " [15 15  0 18  3]\n",
      " [24 17 19 29 19]] \n",
      "\n",
      "[[ -8.32   7.68  -1.32   8.68   1.68]\n",
      " [-10.32   9.68  -2.32  -7.32  -6.32]\n",
      " [  4.68   3.68   0.68   3.68 -10.32]\n",
      " [ -0.32  -0.32 -15.32   2.68 -12.32]\n",
      " [  8.68   1.68   3.68  13.68   3.68]] \n",
      "\n",
      "[[-1.13244349  1.04533246 -0.17966652  1.18144345  0.22866647]\n",
      " [-1.40466549  1.31755445 -0.31577751 -0.9963325  -0.8602215 ]\n",
      " [ 0.63699947  0.50088847  0.09255548  0.50088847 -1.40466549]\n",
      " [-0.04355552 -0.04355552 -2.08522047  0.36477747 -1.67688748]\n",
      " [ 1.18144345  0.22866647  0.50088847  1.86199844  0.50088847]]\n"
     ]
    }
   ],
   "source": [
    "#7). Normalize a 5x5 random matrix:                          2 points\n",
    "\n",
    "#  Tips: a normalization operates like: (the array - the mean)/the standard deviation\n",
    "\n",
    "x=np.random.randint(30,size=(5,5))\n",
    "print(x,'\\n')\n",
    "x1=x-np.mean(x)\n",
    "print(x1,'\\n')\n",
    "x2=x1/np.std(x)\n",
    "print(x2)"
   ]
  },
  {
   "cell_type": "code",
   "execution_count": 24,
   "id": "80416431-0b89-4b04-88c6-e01dae591137",
   "metadata": {},
   "outputs": [
    {
     "name": "stdout",
     "output_type": "stream",
     "text": [
      "[0 1 2] \n",
      "\n",
      "[3 4 5 6] \n",
      "\n",
      "[7 8 9] \n",
      "\n"
     ]
    },
    {
     "data": {
      "text/plain": [
       "array([0, 1, 2, 3, 4, 5, 6, 7, 8, 9])"
      ]
     },
     "execution_count": 24,
     "metadata": {},
     "output_type": "execute_result"
    }
   ],
   "source": [
    "# 8). Convert 3 arrays into a 1d array.                          2 points\n",
    "# arr1: 0,1,2\n",
    "#arr2: 3,4,5,6\n",
    "#arr3: 7,8,9\n",
    "#Generate the 3 arrays by numpy arange()\n",
    "#Desired Output:\n",
    "#([0, 1, 2, 3, 4, 5, 6, 7, 8, 9])\n",
    "\n",
    "arr1=np.arange(0,3)\n",
    "print(arr1,'\\n')\n",
    "arr2=np.arange(3,7)\n",
    "print(arr2,'\\n')\n",
    "arr3=np.arange(7,10)\n",
    "print(arr3,'\\n')\n",
    "arr=np.concatenate([arr1,arr2,arr3])\n",
    "arr"
   ]
  },
  {
   "cell_type": "code",
   "execution_count": 25,
   "id": "5d635ad2-a556-49d7-9d15-ca3c712e65b4",
   "metadata": {},
   "outputs": [
    {
     "name": "stdout",
     "output_type": "stream",
     "text": [
      "[44 47 64 67 67  9 83 21 36 87 70 88 88 12 58 65 39 87 46 88]\n",
      "[44 47 21 36 39 46]\n"
     ]
    }
   ],
   "source": [
    "#9). Get all items between 15 and 55 from aa, math expression: [15,55].                  2 points\n",
    "#The aa is uniformly distributed integers in a 1D array (size=20) with given values (<100). Requires defining a seed.\n",
    "np.random.seed(0)\n",
    "aa=np.random.randint(100,size=20)\n",
    "print(aa)\n",
    "x=np.where((aa>=15) & (aa<=55))\n",
    "print(aa[x])"
   ]
  },
  {
   "cell_type": "code",
   "execution_count": 26,
   "id": "39f0cbae-e00a-48db-97b4-1ab779b7121d",
   "metadata": {},
   "outputs": [
    {
     "name": "stdout",
     "output_type": "stream",
     "text": [
      "[1 3 5 7]\n"
     ]
    }
   ],
   "source": [
    "#10). Get the positions where elements of a and b match.                 2 points\n",
    "\n",
    "a = np.array([1,2,3,2,3,4,3,4,5,6])\n",
    "b = np.array([7,2,10,2,7,4,9,4,9,8])\n",
    "y=np.where(a==b)\n",
    "print(y[0])\n"
   ]
  },
  {
   "cell_type": "code",
   "execution_count": 27,
   "id": "af0830da-9ff6-4254-bfaa-131d6e57856a",
   "metadata": {},
   "outputs": [
    {
     "name": "stdout",
     "output_type": "stream",
     "text": [
      "[ 0  1  2  3  4  5  6  7  8  9 10 11 12 13 14 15 16 17 18 19] \n",
      "\n",
      "[ 0 -1  2 -1  4 -1  6 -1  8 -1 10 -1 12 -1 14 -1 16 -1 18 -1]\n"
     ]
    }
   ],
   "source": [
    "#11). Use arange() to create an array from 0 to 20 ( [0,20) ); replace all odd numbers with -1.      2 points\n",
    "\n",
    "x=np.arange(20)\n",
    "print(x,'\\n')\n",
    "x1=np.where(x%2==1,-1,x)\n",
    "print(x1)"
   ]
  },
  {
   "cell_type": "code",
   "execution_count": 28,
   "id": "af2a67a0-1881-477e-ae34-925fef905ea4",
   "metadata": {},
   "outputs": [
    {
     "name": "stdout",
     "output_type": "stream",
     "text": [
      "[0 1 2 3 4 5 6 7 8 9]\n",
      "45\n",
      "45\n",
      "1.27 µs ± 40.5 ns per loop (mean ± std. dev. of 7 runs, 1000000 loops each)\n",
      "3.39 µs ± 97.9 ns per loop (mean ± std. dev. of 7 runs, 100000 loops each)\n"
     ]
    }
   ],
   "source": [
    "#12). Use two addition functions of Numpy to add every element in a 1D array of size 10 \n",
    "#  and finally get one value.; and set a timer to time the two addition functions to see which one is faster.       2 points\n",
    "#  Tips: you can use Jupyter magic command %timeit\n",
    "\n",
    "x=np.arange(10)\n",
    "print(x)\n",
    "print(sum(x))\n",
    "print(np.sum(x))\n",
    "\n",
    "%timeit sum(x)\n",
    "%timeit np.sum(x)"
   ]
  },
  {
   "cell_type": "code",
   "execution_count": 29,
   "id": "a68ebf85-4458-4011-ab2c-e26f8a98d53c",
   "metadata": {},
   "outputs": [
    {
     "name": "stdout",
     "output_type": "stream",
     "text": [
      "[[  4.4  -7.6   0.4  -4.6  -3.6   6.4   3.4   6.4  -7.6   2.4]\n",
      " [  1.9 -13.1   4.9 -10.1   3.9   5.9   5.9   5.9   0.9  -6.1]\n",
      " [ -5.4  -4.4   3.6  -5.4   4.6  -2.4   5.6  12.6  -3.4  -5.4]\n",
      " [ -7.8  -3.8  -2.8  -1.8   0.2   9.2   7.2  -3.8   1.2   2.2]\n",
      " [ -6.   -6.    0.    2.   -4.   -1.    4.    7.   11.   -7. ]]\n"
     ]
    }
   ],
   "source": [
    "# 13). Subtract the mean of each row of a matrix X. X is a random 2D 5x10 array.     2 points\n",
    "\n",
    "x=np.random.randint(20,size=(5,10))\n",
    "y=np.mean(x,axis=1).reshape(5,1)\n",
    "print(x-y)"
   ]
  },
  {
   "cell_type": "code",
   "execution_count": 30,
   "id": "ac14d9f3-4110-486c-9518-47052956afeb",
   "metadata": {},
   "outputs": [
    {
     "name": "stdout",
     "output_type": "stream",
     "text": [
      "[[[[3 5 9 4]\n",
      "   [4 6 4 4]\n",
      "   [3 4 4 8]]\n",
      "\n",
      "  [[4 3 7 5]\n",
      "   [5 0 1 5]\n",
      "   [9 3 0 5]]\n",
      "\n",
      "  [[0 1 2 4]\n",
      "   [2 0 3 2]\n",
      "   [0 7 5 9]]\n",
      "\n",
      "  [[0 2 7 2]\n",
      "   [9 2 3 3]\n",
      "   [2 3 4 1]]]\n",
      "\n",
      "\n",
      " [[[2 9 1 4]\n",
      "   [6 8 2 3]\n",
      "   [0 0 6 0]]\n",
      "\n",
      "  [[6 3 3 8]\n",
      "   [8 8 2 3]\n",
      "   [2 0 8 8]]\n",
      "\n",
      "  [[3 8 2 8]\n",
      "   [4 3 0 4]\n",
      "   [3 6 9 8]]\n",
      "\n",
      "  [[0 8 5 9]\n",
      "   [0 9 6 5]\n",
      "   [3 1 8 0]]]\n",
      "\n",
      "\n",
      " [[[4 9 6 5]\n",
      "   [7 8 8 9]\n",
      "   [2 8 6 6]]\n",
      "\n",
      "  [[9 1 6 8]\n",
      "   [8 3 2 3]\n",
      "   [6 3 6 5]]\n",
      "\n",
      "  [[7 0 8 4]\n",
      "   [6 5 8 2]\n",
      "   [3 9 7 5]]\n",
      "\n",
      "  [[3 4 5 3]\n",
      "   [3 7 9 9]\n",
      "   [9 7 3 2]]]] \n",
      "\n",
      "[[41 53 61 64]\n",
      " [62 59 48 52]\n",
      " [42 51 66 57]]\n"
     ]
    }
   ],
   "source": [
    "#14) Considering a four dimensions array (3,4,3,4) with the values 0-9 randomly, \n",
    "#how to get sum over the last two axis at once?                    6 points\n",
    "\n",
    "x=np.random.randint(10,size=(3,4,3,4))\n",
    "print(x,'\\n')\n",
    "sum1=np.sum(x,axis=(0,1))\n",
    "print(sum1)"
   ]
  },
  {
   "cell_type": "code",
   "execution_count": 31,
   "id": "dc98fd8f-a5ef-4607-9a6a-d2bdbabe6cf1",
   "metadata": {},
   "outputs": [
    {
     "name": "stdout",
     "output_type": "stream",
     "text": [
      "[[ 0.  0.  0.  0.  0.  0.  0.  0.  0.  0.]\n",
      " [ 0.  0.  0.  0.  0.  0.  0.  0.  0.  0.]\n",
      " [ 0.  0.  0.  0.  0.  0.  0.  0.  0.  0.]\n",
      " [ 0.  0.  0.  0.  0.  0.  0.  0.  0.  0.]\n",
      " [ 0.  0.  0.  0.  0.  0.  0.  0.  0.  0.]\n",
      " [ 0.  0.  0.  0. 86.  0. 14. 28.  0.  0.]\n",
      " [ 0.  0.  0.  0.  0.  0.  0.  0.  0.  0.]\n",
      " [ 0.  0.  0.  0.  0.  0.  0.  0.  0.  0.]\n",
      " [ 0.  0.  0.  0.  0.  0.  0.  0.  0.  0.]\n",
      " [ 0.  0.  0.  0.  0.  0.  0.  0.  0.  0.]]\n"
     ]
    }
   ],
   "source": [
    "#15). Use np.put to randomly place 3 numbers (which can be any value, \n",
    "#like 5) in a 2D 10x10 zero array:             6 points\n",
    "\n",
    "# Tips: here, randomly placing 3 numbers means you should first randomly generate \n",
    "#the indexes of the 3 numbers in the 2D 10x10 array.\n",
    "\n",
    "x=np.zeros(100).reshape(10,10)\n",
    "np.put(x,np.random.choice(np.arange(100),3,replace=False),np.random.choice(np.arange(100),3))\n",
    "print(x)"
   ]
  },
  {
   "cell_type": "code",
   "execution_count": 32,
   "id": "66beb9ea-ecbe-4cce-a91d-a12dc37cddbf",
   "metadata": {},
   "outputs": [
    {
     "name": "stdout",
     "output_type": "stream",
     "text": [
      "[ 3  6  9 25 10  8]\n",
      "[ 6  9 25 10  8]\n",
      "[ 3  6  9 25 10]\n",
      "[ 3  9 10]\n",
      "[ 8 10 25  9  6  3]\n"
     ]
    }
   ],
   "source": [
    "#  3. Indexing and Slicing: total 14 points\n",
    "\n",
    "#1) Given a 1d array: [ 3, 6, 9, 25, 10, 8]                      4 points\n",
    "#(1) To get all elements except the first:\n",
    "#(2) To get all elements except the last:\n",
    "#(3) To get every other element of the array (operation from the first element):\n",
    "#(4) To reverse the array:\n",
    "\n",
    "x=np.array([3,6,9,25,10,8])\n",
    "print(x)\n",
    "print(x[1:])\n",
    "print(x[:5])\n",
    "print(x[::2])\n",
    "print(x[::-1])"
   ]
  },
  {
   "cell_type": "code",
   "execution_count": 33,
   "id": "d2960323-6acb-44e6-bc22-5d08723109a2",
   "metadata": {},
   "outputs": [
    {
     "name": "stdout",
     "output_type": "stream",
     "text": [
      "[[ 0  1  2  3]\n",
      " [ 4  5  6  7]\n",
      " [ 8  9 10 11]\n",
      " [12 13 14 15]\n",
      " [16 17 18 19]\n",
      " [20 21 22 23]\n",
      " [24 25 26 27]\n",
      " [28 29 30 31]] \n",
      "\n",
      "[[ 0  1  0  3]\n",
      " [ 4  5  6  7]\n",
      " [ 8  9 10 11]\n",
      " [12 13 14 15]\n",
      " [16 17 18 19]\n",
      " [20 21 22 23]\n",
      " [24 25 26 27]\n",
      " [28 29 30 31]] \n",
      "\n",
      "[ 1  5  9 13 17 21 25 29] \n",
      "\n",
      "[[ 9 10 11]\n",
      " [13 14 15]\n",
      " [17 18 19]] \n",
      "\n"
     ]
    }
   ],
   "source": [
    "#2) Multidimensional Arrays:               4 points\n",
    "\n",
    "#(1) create an array with the components as 0-31 and the shape is (8,4).\n",
    "#(2) set the 3rd element in the 1st row to 0.\n",
    "#(3) print out the second column.\n",
    "#(4) Get the 3x3 region from the array:\n",
    "#([ 9, 10, 11],\n",
    "# [13, 14, 15],\n",
    "# [17, 18, 19]])\n",
    "\n",
    "x=np.arange(32).reshape(8,4)\n",
    "print(x,'\\n')\n",
    "x[0,2]=0\n",
    "print(x,'\\n')\n",
    "x1=x[:,1]\n",
    "print(x1,'\\n')\n",
    "x2=x[2:5,1:]\n",
    "print(x2,'\\n')"
   ]
  },
  {
   "cell_type": "code",
   "execution_count": 34,
   "id": "5b5b6816-2b29-4b8d-8120-f46c258dee8a",
   "metadata": {},
   "outputs": [
    {
     "name": "stdout",
     "output_type": "stream",
     "text": [
      "[[0. 1. 0. 1.]\n",
      " [1. 0. 1. 0.]\n",
      " [0. 1. 0. 1.]\n",
      " [1. 0. 1. 0.]]\n"
     ]
    }
   ],
   "source": [
    "#3) Create an 4x4 matrix in which 0 and 1 are staggered, with zeros \n",
    "#   on the main diagonal. Please use the numpy \"slicing\" method to realize.                4 points\n",
    "\n",
    "#[[0. 1. 0. 1.]\n",
    "# [1. 0. 1. 0.]\n",
    "# [0. 1. 0. 1.]\n",
    "# [1. 0. 1. 0.]]\n",
    "# If students use other methods to get the same result, TA only can give half of the points.\n",
    "x=np.zeros(16).reshape(4,4)\n",
    "x[:3:2,1::2]=1\n",
    "x[1::2,:3:2]=1\n",
    "print(x)"
   ]
  },
  {
   "cell_type": "code",
   "execution_count": 35,
   "id": "d41cb911-e8f4-4c3f-900b-65ce690707a0",
   "metadata": {},
   "outputs": [
    {
     "name": "stdout",
     "output_type": "stream",
     "text": [
      "[[ 0  1  2  3]\n",
      " [ 4  5  6  7]\n",
      " [ 8  9 10 11]\n",
      " [12 13 14 15]\n",
      " [16 17 18 19]] \n",
      "\n",
      "[[ 4  5  6  7]\n",
      " [ 0  1  2  3]\n",
      " [ 8  9 10 11]\n",
      " [12 13 14 15]\n",
      " [16 17 18 19]]\n"
     ]
    }
   ],
   "source": [
    "#4) Swap the first two rows of the array: aa = np.arange(20).reshape(5,4)                2 points\n",
    "aa=np.arange(20).reshape(5,4)\n",
    "print(aa,'\\n')\n",
    "at=aa[0].copy()       # another method:  aa[[0,1]]=aa[[1,0]]\n",
    "aa[0]=aa[1]\n",
    "aa[1]=at\n",
    "print(aa)        \n"
   ]
  },
  {
   "cell_type": "code",
   "execution_count": 36,
   "id": "0563b6db-9f00-4752-90c8-e5b9a986b3ed",
   "metadata": {},
   "outputs": [],
   "source": [
    "#4. Broadcasting in Practice: total 22 points"
   ]
  },
  {
   "cell_type": "code",
   "execution_count": 37,
   "id": "ab181e62-40f3-4300-b28d-6e5035f14d8e",
   "metadata": {},
   "outputs": [
    {
     "ename": "SyntaxError",
     "evalue": "invalid syntax (<ipython-input-37-9f364ac6b360>, line 15)",
     "output_type": "error",
     "traceback": [
      "\u001b[0;36m  File \u001b[0;32m\"<ipython-input-37-9f364ac6b360>\"\u001b[0;36m, line \u001b[0;32m15\u001b[0m\n\u001b[0;31m    Rule 1:\u001b[0m\n\u001b[0m         ^\u001b[0m\n\u001b[0;31mSyntaxError\u001b[0m\u001b[0;31m:\u001b[0m invalid syntax\n"
     ]
    }
   ],
   "source": [
    "#1) Use rules of broadcasting to give steps how adding two arrays:                          6 points\n",
    "#[Note: you should write the rules and then give the results of M and a corresponding to every rule.]\n",
    "#M = np.ones((3, 2))\n",
    "#a = np.arange(3)\n",
    "#Using Rule 1:\n",
    "#Using Rule 2:\n",
    "#Giving the result or Using Rule 3:\n",
    "\n",
    "M=np.ones((3,2))            \n",
    "a=np.arange(3) \n",
    "\n",
    "#  M = [[1,1][1,1][1,1]]\n",
    "#  a = [0,1,2]\n",
    "\n",
    "Rule 1:\n",
    "M=[[1,1][1,1][1,1]]\n",
    "a=[[0,1,2]]   \n",
    "\n",
    "#  Using Rule 1: if the two arrays differ in their number of demensions, the array with smaller dimension will add one in the left side\n",
    "#  a will change into an array with the shape of (1,3)\n",
    "\n",
    "Rule 2:\n",
    "M=[[1,1],[1,1],[1,1]]\n",
    "a=[[0,1,2],[0,1,2],[0,1,2]] \n",
    "\n",
    "#  Using Rule 2:  if the shape of the two arrays does not match in any demension, the array with shape equal to 1 will stretch to match the other shape. \n",
    "#  a will change into arrays with shape of (3,3)\n",
    "\n",
    "Rule 3:\n",
    "M+a\n",
    "M=[[1,1],[1,1],[1,1]]\n",
    "a=[[0,1,2],[0,1,2],[0,1,2]]\n",
    "ValueError                            \n",
    "#  Using Rule 3: if in any dimension the size disagrees and neither is equal to 1, error is raised.\n",
    "\n"
   ]
  },
  {
   "cell_type": "code",
   "execution_count": null,
   "id": "699c9cf5-da24-4b30-9acb-72c74bde106b",
   "metadata": {},
   "outputs": [],
   "source": [
    "#2) Given 2 arrays:                                                        4 points\n",
    "\n",
    "#a_2d : [[3,3,3],[4,4,4],[5,5,5]]\n",
    "#b_1d : [1,2,3]\n",
    "#Do the subtraction so that the result is:\n",
    "#[[2 2 2]\n",
    "# [2 2 2]\n",
    "# [2 2 2]]\n",
    "\n",
    "x=np.array([[3,3,3],[4,4,4],[5,5,5]])\n",
    "y=np.array([1,2,3])\n",
    "y1=y.reshape(3,1)\n",
    "sub=x-y1\n",
    "sub\n"
   ]
  },
  {
   "cell_type": "code",
   "execution_count": null,
   "id": "21919ece-bf19-47f0-9aba-7a5e35a24217",
   "metadata": {},
   "outputs": [],
   "source": [
    "#2). Write a 6x6 matrix for multiplication table:          8 points\n",
    "\n",
    "#- by using numpy broadcasting (4 points)\n",
    "#- by using Python nested for-loop (4 points).\n",
    "#Desired output:\n",
    "#array([[ 1,  2,  3,  4,  5,  6],\n",
    "#       [ 2,  4,  6,  8, 10, 12],\n",
    "#       [ 3,  6,  9, 12, 15, 18],\n",
    "#       [ 4,  8, 12, 16, 20, 24],\n",
    "#       [ 5, 10, 15, 20, 25, 30],\n",
    "#       [ 6, 12, 18, 24, 30, 36]])\n",
    "\n",
    "#1>\n",
    "x=np.arange(1,7)\n",
    "y=x*x.reshape(6,1)\n",
    "print(y,'\\n')\n",
    "\n",
    "#2>\n",
    "x=np.ones(36,dtype=int).reshape(6,6)\n",
    "for i in range(1,6):\n",
    "    x[0][i]=i+1\n",
    "for j in range(1,6):\n",
    "    x[j]=x[0]*(j+1)\n",
    "print(x)"
   ]
  },
  {
   "cell_type": "code",
   "execution_count": null,
   "id": "aac7ea86-5cb2-4cca-9a69-80ffe0df1610",
   "metadata": {},
   "outputs": [],
   "source": [
    "#3) For an arbitrary array of dimension (5,5,3), consider multiplying it by\n",
    "#   an arbitrary array with dimensions (5,5).                4 points\n",
    "x=np.random.randint(10,size=(5,5,3))\n",
    "y=np.random.randint(10,size=(5,5))\n",
    "print(x*y[:,:,np.newaxis])"
   ]
  },
  {
   "cell_type": "code",
   "execution_count": null,
   "id": "eceed0e4-c03d-4e3e-b668-538a45b18f36",
   "metadata": {},
   "outputs": [],
   "source": []
  },
  {
   "cell_type": "code",
   "execution_count": null,
   "id": "60f42732-7f56-4555-82ca-0ac959750c94",
   "metadata": {},
   "outputs": [],
   "source": []
  }
 ],
 "metadata": {
  "kernelspec": {
   "display_name": "Python 3",
   "language": "python",
   "name": "python3"
  },
  "language_info": {
   "codemirror_mode": {
    "name": "ipython",
    "version": 3
   },
   "file_extension": ".py",
   "mimetype": "text/x-python",
   "name": "python",
   "nbconvert_exporter": "python",
   "pygments_lexer": "ipython3",
   "version": "3.8.8"
  }
 },
 "nbformat": 4,
 "nbformat_minor": 5
}
