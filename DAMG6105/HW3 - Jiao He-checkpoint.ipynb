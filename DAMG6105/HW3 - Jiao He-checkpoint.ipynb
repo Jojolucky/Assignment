{
 "cells": [
  {
   "cell_type": "raw",
   "id": "acf63722-609d-4388-83c2-2f24e7c21c32",
   "metadata": {},
   "source": [
    "DAMG6105 HW3-Jiao He"
   ]
  },
  {
   "cell_type": "raw",
   "id": "56cc768c-66f4-42be-9e23-54579a2b5691",
   "metadata": {},
   "source": [
    "\n",
    "Pandas\n",
    "\n",
    "12 questions, total 78 points.\n"
   ]
  },
  {
   "cell_type": "raw",
   "id": "17ab9f97-272e-4dbd-8f81-802f1babb3c7",
   "metadata": {},
   "source": [
    "1. Create a pandas Series from a list [1, 7, 4] with the index x, y, z. [2 points]"
   ]
  },
  {
   "cell_type": "code",
   "execution_count": 2,
   "id": "3471261d-e9c8-48f0-8b8e-550d5d692c2e",
   "metadata": {},
   "outputs": [
    {
     "name": "stdout",
     "output_type": "stream",
     "text": [
      "x    1\n",
      "y    7\n",
      "z    4\n",
      "dtype: int64\n"
     ]
    }
   ],
   "source": [
    "import numpy as np\n",
    "import pandas as pd\n",
    "data = pd.Series([1,7,4], index=['x','y','z'])\n",
    "print(data)"
   ]
  },
  {
   "cell_type": "raw",
   "id": "4e4e1f16-f398-450d-9eac-3edd667307fd",
   "metadata": {},
   "source": [
    "2. A pandas Series: [6 points]\n",
    "(1) Create a pandas Series “ser” with the index 1,3,5,4 and the values are a, b, c, d.\n",
    "(2) Give a command to get the value ‘a’.\n",
    "(3) Give a command to get the result as:\n",
    "3    b\n",
    "5    c"
   ]
  },
  {
   "cell_type": "code",
   "execution_count": 3,
   "id": "df94632a-3f2b-455d-810b-6cba2002ed62",
   "metadata": {},
   "outputs": [
    {
     "name": "stdout",
     "output_type": "stream",
     "text": [
      "(1):\n",
      "1    a\n",
      "3    b\n",
      "5    c\n",
      "4    d\n",
      "dtype: object \n",
      "\n",
      "(2):\n",
      "a \n",
      "\n",
      "(3):\n",
      "3    b\n",
      "5    c\n",
      "dtype: object\n"
     ]
    }
   ],
   "source": [
    "ser = pd.Series(['a','b','c','d'], index=[1,3,5,4])\n",
    "print(\"(1):\")\n",
    "print(ser,'\\n')\n",
    "\n",
    "print(\"(2):\")\n",
    "print(ser[1],'\\n')\n",
    "\n",
    "print(\"(3):\")\n",
    "print(ser[1:3])"
   ]
  },
  {
   "cell_type": "raw",
   "id": "effab7e5-47dc-43e6-bf23-80c1027aa8bb",
   "metadata": {},
   "source": [
    "3. Create a Series from the following dict using only data from \"day1\" and \"day2\": [3 points]\n",
    "calories = {\"day1\": 420, \"day2\": 380, \"day3\": 390, \"day4\": 400}"
   ]
  },
  {
   "cell_type": "code",
   "execution_count": 4,
   "id": "dd780e92-4c86-464f-bbd4-b798ec68dad8",
   "metadata": {},
   "outputs": [
    {
     "data": {
      "text/plain": [
       "day1    420\n",
       "day2    380\n",
       "dtype: int64"
      ]
     },
     "execution_count": 4,
     "metadata": {},
     "output_type": "execute_result"
    }
   ],
   "source": [
    "calories = {\"day1\": 420, \"day2\": 380, \"day3\": 390, \"day4\": 400}\n",
    "calories_dict=pd.Series(calories)\n",
    "calories_dict[\"day1\":\"day2\"]"
   ]
  },
  {
   "cell_type": "raw",
   "id": "0cb45c03-051d-4783-939c-30d379a9e731",
   "metadata": {},
   "source": [
    "4. We have the following data: [12 points]\n",
    "  \" calories \": [420, 380, 390, 400]\n",
    "\n",
    "  \"days\": [50, 40, 45, 35]\n",
    "(1) Create a DataFrame “df” with two columns “calories” and “days”. [3 points]\n",
    "(2) Use “loc” to return the first row. [3 points]\n",
    "(3) Use “loc” to return the first two rows. [3 points]\n",
    "(4) Use “iloc” to return the first two rows. [3 points]"
   ]
  },
  {
   "cell_type": "code",
   "execution_count": 5,
   "id": "531584a3-1401-46c7-a7b0-86fc1077cfb6",
   "metadata": {},
   "outputs": [
    {
     "name": "stdout",
     "output_type": "stream",
     "text": [
      "(1):\n",
      "   calories  days\n",
      "0       420    50\n",
      "1       380    40\n",
      "2       390    45\n",
      "3       400    35 \n",
      "\n",
      "(2):\n",
      "calories    420\n",
      "days         50\n",
      "Name: 0, dtype: int64 \n",
      "\n",
      "(3):\n",
      "   calories  days\n",
      "0       420    50\n",
      "1       380    40 \n",
      "\n",
      "(4):\n",
      "   calories  days\n",
      "0       420    50\n",
      "1       380    40\n"
     ]
    }
   ],
   "source": [
    "calories=pd.Series([420, 380, 390, 400])\n",
    "days=pd.Series([50, 40, 45, 35])\n",
    "df=pd.DataFrame({'calories':calories,'days':days})\n",
    "print('(1):')\n",
    "print(df,'\\n')\n",
    "\n",
    "print('(2):')\n",
    "print(df.loc[0],'\\n')\n",
    "\n",
    "print('(3):')\n",
    "print(df.loc[0:1],'\\n')\n",
    "\n",
    "print('(4):')\n",
    "print(df.iloc[0:2])"
   ]
  },
  {
   "cell_type": "raw",
   "id": "e87de5c4-f7de-4a79-a54e-414594572075",
   "metadata": {},
   "source": [
    "5. Working with Question 4, [6 points]\n",
    "(1) Add a list of names to give each row a name as \"day1\", \"day2\", \"day3\", \"day4\". [3 points]\n",
    "(2) Give a command to return “day2”. [3 points]"
   ]
  },
  {
   "cell_type": "code",
   "execution_count": 6,
   "id": "c4947acc-2711-4e76-a53c-2867fda53797",
   "metadata": {},
   "outputs": [
    {
     "name": "stdout",
     "output_type": "stream",
     "text": [
      "(1):\n",
      "      calories  days\n",
      "day1       420    50\n",
      "day2       380    40\n",
      "day3       390    45\n",
      "day4       400    35 \n",
      "\n",
      "(2):\n",
      "      calories  days\n",
      "day2       380    40\n"
     ]
    }
   ],
   "source": [
    "df.index=['day1','day2','day3','day4']\n",
    "print('(1):')\n",
    "print(df,'\\n')\n",
    "\n",
    "print('(2):')\n",
    "print(df[1:2])\n"
   ]
  },
  {
   "cell_type": "raw",
   "id": "1f8614eb-9392-4d03-bf84-98ae5778439b",
   "metadata": {},
   "source": [
    "6. Construct the following DataFrame and print it out [3 points].\n"
   ]
  },
  {
   "cell_type": "code",
   "execution_count": 7,
   "id": "6c6ed85b-d7c6-4cc7-ac77-11cfd438b866",
   "metadata": {},
   "outputs": [
    {
     "data": {
      "text/html": [
       "<div>\n",
       "<style scoped>\n",
       "    .dataframe tbody tr th:only-of-type {\n",
       "        vertical-align: middle;\n",
       "    }\n",
       "\n",
       "    .dataframe tbody tr th {\n",
       "        vertical-align: top;\n",
       "    }\n",
       "\n",
       "    .dataframe thead th {\n",
       "        text-align: right;\n",
       "    }\n",
       "</style>\n",
       "<table border=\"1\" class=\"dataframe\">\n",
       "  <thead>\n",
       "    <tr style=\"text-align: right;\">\n",
       "      <th></th>\n",
       "      <th>class1</th>\n",
       "      <th>class2</th>\n",
       "      <th>class3</th>\n",
       "    </tr>\n",
       "  </thead>\n",
       "  <tbody>\n",
       "    <tr>\n",
       "      <th>0</th>\n",
       "      <td>1</td>\n",
       "      <td>4</td>\n",
       "      <td>7</td>\n",
       "    </tr>\n",
       "    <tr>\n",
       "      <th>1</th>\n",
       "      <td>2</td>\n",
       "      <td>5</td>\n",
       "      <td>5</td>\n",
       "    </tr>\n",
       "    <tr>\n",
       "      <th>2</th>\n",
       "      <td>3</td>\n",
       "      <td>6</td>\n",
       "      <td>8</td>\n",
       "    </tr>\n",
       "    <tr>\n",
       "      <th>3</th>\n",
       "      <td>4</td>\n",
       "      <td>9</td>\n",
       "      <td>12</td>\n",
       "    </tr>\n",
       "    <tr>\n",
       "      <th>4</th>\n",
       "      <td>7</td>\n",
       "      <td>5</td>\n",
       "      <td>1</td>\n",
       "    </tr>\n",
       "    <tr>\n",
       "      <th>5</th>\n",
       "      <td>11</td>\n",
       "      <td>0</td>\n",
       "      <td>11</td>\n",
       "    </tr>\n",
       "  </tbody>\n",
       "</table>\n",
       "</div>"
      ],
      "text/plain": [
       "   class1  class2  class3\n",
       "0       1       4       7\n",
       "1       2       5       5\n",
       "2       3       6       8\n",
       "3       4       9      12\n",
       "4       7       5       1\n",
       "5      11       0      11"
      ]
     },
     "execution_count": 7,
     "metadata": {},
     "output_type": "execute_result"
    }
   ],
   "source": [
    "class1=pd.Series([1,2,3,4,7,11])\n",
    "class2=pd.Series([4,5,6,9,5,0])\n",
    "class3=pd.Series([7,5,8,12,1,11])\n",
    "data=pd.DataFrame({'class1':class1,'class2':class2,'class3':class3})\n",
    "data"
   ]
  },
  {
   "cell_type": "raw",
   "id": "1423ca00-0401-4cdc-a0d2-1da82e250536",
   "metadata": {},
   "source": [
    "7. Working on the DataFrame of Question 6, use \"iloc\" to convert the first column of this DataFrame as a Series [3 points]."
   ]
  },
  {
   "cell_type": "code",
   "execution_count": 8,
   "id": "5f48451c-a2b8-4dcd-a0f6-aff570d9ccf8",
   "metadata": {},
   "outputs": [
    {
     "data": {
      "text/plain": [
       "0     1\n",
       "1     2\n",
       "2     3\n",
       "3     4\n",
       "4     7\n",
       "5    11\n",
       "Name: class1, dtype: int64"
      ]
     },
     "execution_count": 8,
     "metadata": {},
     "output_type": "execute_result"
    }
   ],
   "source": [
    "first=data.iloc[:,0]\n",
    "first"
   ]
  },
  {
   "cell_type": "raw",
   "id": "f92f3782-ffa8-4fe0-92ca-9bf2f7328a6d",
   "metadata": {},
   "source": [
    "8. Working on the DataFrame of Question 6, implement the following tasks using indexers loc and/or iloc: [total 9 points]\n",
    "(1) Select all columns, except one given column 'class3', and print out the result.\n",
    "(2) Remove first 3 rows of the DataFrame and print it out.\n",
    "(3) Remove last 3 rows of the DataFrame and print it out."
   ]
  },
  {
   "cell_type": "code",
   "execution_count": 9,
   "id": "237659ea-1c72-4e85-a498-60dcca2a1bd8",
   "metadata": {},
   "outputs": [
    {
     "name": "stdout",
     "output_type": "stream",
     "text": [
      "(1):\n",
      "   class1  class2\n",
      "0       1       4\n",
      "1       2       5\n",
      "2       3       6\n",
      "3       4       9\n",
      "4       7       5\n",
      "5      11       0 \n",
      "\n",
      "(2):\n",
      "   class1  class2  class3\n",
      "3       4       9      12\n",
      "4       7       5       1\n",
      "5      11       0      11 \n",
      "\n",
      "(3):\n",
      "   class1  class2  class3\n",
      "0       1       4       7\n",
      "1       2       5       5\n",
      "2       3       6       8 \n",
      "\n"
     ]
    }
   ],
   "source": [
    "firstone=data.iloc[:,:2]\n",
    "print('(1):')\n",
    "print(firstone,'\\n')\n",
    "\n",
    "secondone=data.iloc[3:,:]\n",
    "print('(2):')\n",
    "print(secondone,'\\n')\n",
    "\n",
    "thirdone=data.iloc[:3,:]\n",
    "print('(3):')\n",
    "print(thirdone,'\\n')\n"
   ]
  },
  {
   "cell_type": "raw",
   "id": "040c5fc9-7045-4c04-b060-759cf2dcab6f",
   "metadata": {},
   "source": [
    "9. A DataFrame “df”: [12 points]\n",
    "(1) Create this df: the column names should be a, b, c, d, e; a total of 4 rows; the values can be random integers. [4 points]\n",
    "(2) Interchange columns 'a' and 'c'. [4 points]\n",
    "(3) Sort the columns in reverse alphabetical order, that is colume 'e' first through column 'a' last. [4 points]"
   ]
  },
  {
   "cell_type": "code",
   "execution_count": 10,
   "id": "88ba2beb-4c90-46cd-9b2e-d12e3eadf3c1",
   "metadata": {},
   "outputs": [
    {
     "name": "stdout",
     "output_type": "stream",
     "text": [
      "(1):\n",
      "   a  b  c  d  e\n",
      "0  0  4  0  1  0\n",
      "1  7  0  2  2  4\n",
      "2  6  2  1  2  9\n",
      "3  1  1  5  0  2 \n",
      "\n",
      "(2):\n",
      "   c  b  a  d  e\n",
      "0  0  4  0  1  0\n",
      "1  2  0  7  2  4\n",
      "2  1  2  6  2  9\n",
      "3  5  1  1  0  2 \n",
      "\n",
      "(3):\n",
      "   e  d  c  b  a\n",
      "0  0  1  0  4  0\n",
      "1  4  2  2  0  7\n",
      "2  9  2  1  2  6\n",
      "3  2  0  5  1  1\n"
     ]
    }
   ],
   "source": [
    "import numpy as np\n",
    "import pandas as pd\n",
    "df=pd.DataFrame(np.random.randint(10,size=(4,5)),columns=['a','b','c','d','e'])\n",
    "print('(1):')\n",
    "print(df,'\\n')\n",
    "\n",
    "changedf=pd.DataFrame(df,columns=['c','b','a','d','e'])\n",
    "print('(2):')\n",
    "print(changedf,'\\n')\n",
    "\n",
    "sortdf=pd.DataFrame.sort_index(df,axis=1,ascending=False)\n",
    "print('(3):')\n",
    "print(sortdf)"
   ]
  },
  {
   "cell_type": "raw",
   "id": "1ce09564-c522-4064-a965-6a2f1665c13d",
   "metadata": {},
   "source": [
    "10. A DataFrame: [6 points]\n",
    "df = pd.DataFrame([[1,      np.nan, 2],\n",
    "                   [2,      3,      5],\n",
    "                   [np.nan, 4,      6]])\n",
    "(1) Drop all columns containing a null value.\n",
    "(2) Fill in the integer 1 to all null values.\n",
    "(3) Use a forward-fill to fill in the null values."
   ]
  },
  {
   "cell_type": "code",
   "execution_count": 11,
   "id": "955e8102-34f9-46fd-bf94-1891a955b8b2",
   "metadata": {},
   "outputs": [
    {
     "name": "stdout",
     "output_type": "stream",
     "text": [
      "(1):\n",
      "   2\n",
      "0  2\n",
      "1  5\n",
      "2  6 \n",
      "\n",
      "(2):\n",
      "     0    1  2\n",
      "0  1.0  1.0  2\n",
      "1  2.0  3.0  5\n",
      "2  1.0  4.0  6 \n",
      "\n",
      "(3):\n",
      "     0    1    2\n",
      "0  1.0  1.0  2.0\n",
      "1  2.0  3.0  5.0\n",
      "2  2.0  4.0  6.0\n"
     ]
    }
   ],
   "source": [
    "df = pd.DataFrame([[1,      np.nan, 2],\n",
    "                   [2,      3,      5],\n",
    "                   [np.nan, 4,      6]])\n",
    "\n",
    "print('(1):')\n",
    "print(df.dropna(axis='columns'),'\\n')\n",
    "\n",
    "print('(2):')\n",
    "print(df.fillna(1),'\\n')\n",
    "\n",
    "print('(3):')\n",
    "print(df.fillna(method='ffill').fillna(method='ffill',axis=1))"
   ]
  },
  {
   "cell_type": "raw",
   "id": "0e048e39-7c8d-418b-8cef-4f3098380fdf",
   "metadata": {},
   "source": [
    "11. Create a TimeSeries starting ‘2021-01-01’ and 10 weekends (Saturdays) after that having random numbers as values. [8 points]"
   ]
  },
  {
   "cell_type": "code",
   "execution_count": 13,
   "id": "a205e5f2-1d47-40d8-ace1-6b5113324b12",
   "metadata": {},
   "outputs": [
    {
     "data": {
      "text/plain": [
       "2021-01-02    2\n",
       "2021-01-09    3\n",
       "2021-01-16    2\n",
       "2021-01-23    6\n",
       "2021-01-30    0\n",
       "2021-02-06    0\n",
       "2021-02-13    5\n",
       "2021-02-20    9\n",
       "2021-02-27    0\n",
       "2021-03-06    5\n",
       "Freq: W-SAT, dtype: int64"
      ]
     },
     "execution_count": 13,
     "metadata": {},
     "output_type": "execute_result"
    }
   ],
   "source": [
    "time=pd.Series(np.random.randint(10,size=10),index=pd.date_range('2021-01-01',periods=10,freq='W-SAT'))\n",
    "time"
   ]
  },
  {
   "cell_type": "raw",
   "id": "5aa65ab9-6302-4a97-9f6a-4f37f7e047ba",
   "metadata": {},
   "source": [
    "12. Use pandas to make a calenda of 2021. The output should be this: [8 points]\n",
    "               Month\n",
    "\n",
    "0          2021-01-31\n",
    "\n",
    "1          2021-02-28\n",
    "\n",
    "2          2021-03-31\n",
    "\n",
    "3          2021-04-30\n",
    "\n",
    "4          2021-05-31\n",
    "\n",
    "5          2021-06-30\n",
    "\n",
    "6          2021-07-31\n",
    "\n",
    "7          2021-08-31\n",
    "\n",
    "8          2021-09-30\n",
    "\n",
    "9          2021-10-31\n",
    "\n",
    "10        2021-11-30\n",
    "\n",
    "11        2021-12-31"
   ]
  },
  {
   "cell_type": "code",
   "execution_count": 14,
   "id": "1e63bfb5-9889-45d6-bdc6-0d8e16fabb09",
   "metadata": {},
   "outputs": [
    {
     "data": {
      "text/html": [
       "<div>\n",
       "<style scoped>\n",
       "    .dataframe tbody tr th:only-of-type {\n",
       "        vertical-align: middle;\n",
       "    }\n",
       "\n",
       "    .dataframe tbody tr th {\n",
       "        vertical-align: top;\n",
       "    }\n",
       "\n",
       "    .dataframe thead th {\n",
       "        text-align: right;\n",
       "    }\n",
       "</style>\n",
       "<table border=\"1\" class=\"dataframe\">\n",
       "  <thead>\n",
       "    <tr style=\"text-align: right;\">\n",
       "      <th></th>\n",
       "      <th>month</th>\n",
       "    </tr>\n",
       "  </thead>\n",
       "  <tbody>\n",
       "    <tr>\n",
       "      <th>0</th>\n",
       "      <td>2021-01-31</td>\n",
       "    </tr>\n",
       "    <tr>\n",
       "      <th>1</th>\n",
       "      <td>2021-02-28</td>\n",
       "    </tr>\n",
       "    <tr>\n",
       "      <th>2</th>\n",
       "      <td>2021-03-31</td>\n",
       "    </tr>\n",
       "    <tr>\n",
       "      <th>3</th>\n",
       "      <td>2021-04-30</td>\n",
       "    </tr>\n",
       "    <tr>\n",
       "      <th>4</th>\n",
       "      <td>2021-05-31</td>\n",
       "    </tr>\n",
       "    <tr>\n",
       "      <th>5</th>\n",
       "      <td>2021-06-30</td>\n",
       "    </tr>\n",
       "    <tr>\n",
       "      <th>6</th>\n",
       "      <td>2021-07-31</td>\n",
       "    </tr>\n",
       "    <tr>\n",
       "      <th>7</th>\n",
       "      <td>2021-08-31</td>\n",
       "    </tr>\n",
       "    <tr>\n",
       "      <th>8</th>\n",
       "      <td>2021-09-30</td>\n",
       "    </tr>\n",
       "    <tr>\n",
       "      <th>9</th>\n",
       "      <td>2021-10-31</td>\n",
       "    </tr>\n",
       "    <tr>\n",
       "      <th>10</th>\n",
       "      <td>2021-11-30</td>\n",
       "    </tr>\n",
       "    <tr>\n",
       "      <th>11</th>\n",
       "      <td>2021-12-31</td>\n",
       "    </tr>\n",
       "  </tbody>\n",
       "</table>\n",
       "</div>"
      ],
      "text/plain": [
       "        month\n",
       "0  2021-01-31\n",
       "1  2021-02-28\n",
       "2  2021-03-31\n",
       "3  2021-04-30\n",
       "4  2021-05-31\n",
       "5  2021-06-30\n",
       "6  2021-07-31\n",
       "7  2021-08-31\n",
       "8  2021-09-30\n",
       "9  2021-10-31\n",
       "10 2021-11-30\n",
       "11 2021-12-31"
      ]
     },
     "execution_count": 14,
     "metadata": {},
     "output_type": "execute_result"
    }
   ],
   "source": [
    "calenda=pd.date_range('2021-01-01',periods=12,freq='M')\n",
    "calendaseries=pd.DataFrame({'month':calenda})\n",
    "calendaseries"
   ]
  },
  {
   "cell_type": "raw",
   "id": "2c748f2e-f6b8-4861-bef1-d06f58b81db7",
   "metadata": {},
   "source": [
    "\n",
    "Matplotlib\n",
    "\n",
    "3 questions, total 22 points.\n"
   ]
  },
  {
   "cell_type": "raw",
   "id": "d08e7b88-ee4d-40a8-ac7f-d34d50517569",
   "metadata": {},
   "source": [
    "1. Plot several lines with different format styles in one command using arrays. [6 points]\n",
    "Sampled time at 200ms intervals\n",
    "\n",
    "t = np.arange(0., 5., 0.2)\n",
    "\n",
    "green dashed, blue solids, and red dotted to plot t, t**2, t**3."
   ]
  },
  {
   "cell_type": "code",
   "execution_count": 15,
   "id": "c60a0469-fab9-478a-bb74-a182d55ad354",
   "metadata": {},
   "outputs": [
    {
     "data": {
      "image/png": "[encoded data removed]",
      "text/plain": [
       "<Figure size 432x288 with 1 Axes>"
      ]
     },
     "metadata": {
      "needs_background": "light"
     },
     "output_type": "display_data"
    }
   ],
   "source": [
    "import matplotlib as mpl\n",
    "import matplotlib.pyplot as plt\n",
    "import numpy as np\n",
    "\n",
    "t= np.arange(0.,5.,0.2)\n",
    "plt.plot(t,t,'--g',t,t**2,'-b',t,t**3,':r')\n",
    "plt.show()"
   ]
  },
  {
   "cell_type": "raw",
   "id": "57f9bcfa-5fdf-4985-9f79-e1d21ff0b08e",
   "metadata": {},
   "source": [
    "2. Plot line1 and line2 with different styles: [8 points]\n",
    "# line 1\n",
    "\n",
    "x1 = [10,20,30]\n",
    "y1 = [20,40,10]\n",
    "# line 2\n",
    "\n",
    "x2 = [10,20,30]\n",
    "y2 = [40,10,30]\n",
    "\n",
    "(1) Set the x and y axes labels as 'x' and 'y’.\n",
    "(2) Plot lines and/or markers to the Axes: blue, red; dotted, dashed.\n",
    "(3) Set a title: \"Plot with two or more lines with different styles”.\n",
    "(4) Show a legend on the plot as 'line1-dotted', 'line2-dashed'."
   ]
  },
  {
   "cell_type": "code",
   "execution_count": 16,
   "id": "4ec85166-34bb-4e12-b32f-16fab34a82ad",
   "metadata": {},
   "outputs": [
    {
     "name": "stdout",
     "output_type": "stream",
     "text": [
      "(1):\n"
     ]
    },
    {
     "data": {
      "image/png": "[encoded data removed]",
      "text/plain": [
       "<Figure size 432x288 with 1 Axes>"
      ]
     },
     "metadata": {
      "needs_background": "light"
     },
     "output_type": "display_data"
    },
    {
     "name": "stdout",
     "output_type": "stream",
     "text": [
      "(2):\n"
     ]
    },
    {
     "data": {
      "image/png": "[encoded data removed]",
      "text/plain": [
       "<Figure size 432x288 with 1 Axes>"
      ]
     },
     "metadata": {
      "needs_background": "light"
     },
     "output_type": "display_data"
    },
    {
     "name": "stdout",
     "output_type": "stream",
     "text": [
      "(3):\n"
     ]
    },
    {
     "data": {
      "image/png": "[encoded data removed]",
      "text/plain": [
       "<Figure size 432x288 with 1 Axes>"
      ]
     },
     "metadata": {
      "needs_background": "light"
     },
     "output_type": "display_data"
    },
    {
     "name": "stdout",
     "output_type": "stream",
     "text": [
      "(4):\n"
     ]
    },
    {
     "data": {
      "image/png": "[encoded data removed]",
      "text/plain": [
       "<Figure size 432x288 with 1 Axes>"
      ]
     },
     "metadata": {
      "needs_background": "light"
     },
     "output_type": "display_data"
    }
   ],
   "source": [
    "x1 = [10,20,30]\n",
    "y1 = [20,40,10]\n",
    "x2 = [10,20,30]\n",
    "y2 = [40,10,30]\n",
    "\n",
    "print('(1):')\n",
    "plt.plot(x1,y1,x2,y2)\n",
    "plt.xlabel('x')\n",
    "plt.ylabel('y')\n",
    "plt.show()\n",
    "\n",
    "print('(2):')\n",
    "plt.plot(x1,y1,':b',x2,y2,'--r')\n",
    "plt.xlabel('x')\n",
    "plt.ylabel('y')\n",
    "plt.show()\n",
    "\n",
    "print('(3):')\n",
    "plt.title('Plot with two or more lines with different styles')\n",
    "plt.plot(x1,y1,':b',x2,y2,'--r')\n",
    "plt.xlabel('x')\n",
    "plt.ylabel('y')\n",
    "plt.show()\n",
    "\n",
    "print('(4):')\n",
    "plt.title('Plot with two or more lines with different styles')\n",
    "plt.plot(x1,y1,':b',label='line1-dotted')\n",
    "plt.plot(x2,y2,'--r',label='line2-dashed')\n",
    "plt.xlabel('x')\n",
    "plt.ylabel('y')\n",
    "plt.legend()\n",
    "plt.show()"
   ]
  },
  {
   "cell_type": "raw",
   "id": "be17c071-7e6c-41a0-8bd0-340581665ed6",
   "metadata": {},
   "source": [
    "3. Draw a scatter plot with empty circles taking a 50-point random distribution in X and Y; set X and Y as x- and y- axes labels; green color for circle edges and plotted against each other. [8 points]"
   ]
  },
  {
   "cell_type": "code",
   "execution_count": 17,
   "id": "8475f1ac-e788-4cde-bf46-6b8c83952482",
   "metadata": {},
   "outputs": [
    {
     "data": {
      "image/png": "[encoded data removed]",
      "text/plain": [
       "<Figure size 432x288 with 1 Axes>"
      ]
     },
     "metadata": {
      "needs_background": "light"
     },
     "output_type": "display_data"
    }
   ],
   "source": [
    "x=np.random.randint(50,size=50)\n",
    "y=np.random.randint(50,size=50)\n",
    "plt.scatter(x,y,facecolors='none',edgecolors='green')\n",
    "plt.xlabel('X')\n",
    "plt.ylabel('Y')\n",
    "plt.show()\n"
   ]
  }
 ],
 "metadata": {
  "kernelspec": {
   "display_name": "Python 3",
   "language": "python",
   "name": "python3"
  },
  "language_info": {
   "codemirror_mode": {
    "name": "ipython",
    "version": 3
   },
   "file_extension": ".py",
   "mimetype": "text/x-python",
   "name": "python",
   "nbconvert_exporter": "python",
   "pygments_lexer": "ipython3",
   "version": "3.8.8"
  }
 },
 "nbformat": 4,
 "nbformat_minor": 5
}
